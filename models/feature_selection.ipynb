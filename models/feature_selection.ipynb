{
 "cells": [
  {
   "cell_type": "markdown",
   "metadata": {},
   "source": [
    "## Feature-specific Clustering Experimentation"
   ]
  },
  {
   "cell_type": "markdown",
   "metadata": {},
   "source": [
    "The majority of this notebook's code is blocks of functions, primarily for reproducibility, consistency, and readability.\n",
    "The order they were written is not organized, so much as the order they were defined in exploration, cleaned up a bit afterwards."
   ]
  },
  {
   "cell_type": "markdown",
   "metadata": {},
   "source": [
    "#### Imports and loading datafiles"
   ]
  },
  {
   "cell_type": "code",
   "execution_count": 1,
   "metadata": {},
   "outputs": [],
   "source": [
    "import numpy as np\n",
    "import json\n",
    "import random\n",
    "import math\n",
    "from itertools import permutations"
   ]
  },
  {
   "cell_type": "code",
   "execution_count": 2,
   "metadata": {},
   "outputs": [],
   "source": [
    "with open(\"../data/playlist_data.json\") as jsonfile:\n",
    "    playlist_data = json.load(jsonfile)\n",
    "with open(\"../data/track_audio_data.json\") as jsonfile:\n",
    "    track_audio_data = json.load(jsonfile)\n",
    "with open(\"../data/track_data.json\") as jsonfile:\n",
    "    track_metadata = json.load(jsonfile)"
   ]
  },
  {
   "cell_type": "markdown",
   "metadata": {},
   "source": [
    "#### Feature Definition and Playlist "
   ]
  },
  {
   "cell_type": "markdown",
   "metadata": {},
   "source": [
    "The individual categories of each categorical feature was not something we had the time to explore."
   ]
  },
  {
   "cell_type": "code",
   "execution_count": 4,
   "metadata": {},
   "outputs": [],
   "source": [
    "ORD_FEATURES = [\"danceability\", \"energy\", \"loudness\", \"speechiness\",\n",
    "            \"acousticness\", \"liveness\", \"valence\", \"tempo\", \"duration_ms\"]\n",
    "\n",
    "CAT_FEATURES = {\n",
    "    \"time_signature\": [\"0\", \"1\", \"3\", \"4\", \"5\"],\n",
    "    \"key\": [\"0\", \"1\", \"2\", \"3\", \"4\", \"5\", \"6\", \"7\", \"8\", \"9\", \"10\", \"11\"],\n",
    "    \"mode\": [\"0\", \"1\"]\n",
    "}\n",
    "# Calculate the (mean) audio summary of a playlist's songs.\n",
    "def playlist_summary(playlist):\n",
    "    total_tracks = playlist[\"num_tracks\"]\n",
    "    audio_summary = dict.fromkeys(ORD_FEATURES, 0)\n",
    "\n",
    "    # Use the most common label for categorical features.\n",
    "    cat_appearances = {}\n",
    "    for feat, values in CAT_FEATURES.items():\n",
    "        cat_appearances[feat] = {val: 0 for val in values}\n",
    "    \n",
    "    for track_num in playlist[\"tracks\"]:\n",
    "        # Some songs' audio data weren't found when calling Spotify's API.\n",
    "        # Typically, this seemed to be whenever a song was\n",
    "        # pulled down from the library, or when the given 'song' was a podcast.\n",
    "        # Most try/catches and 'is not None' blocks are for this singular reason.\n",
    "        try:\n",
    "            track_audio_feats = track_metadata[str(track_num)]\n",
    "        except KeyError:\n",
    "            continue\n",
    "\n",
    "        # Though this is the only that had to be concerned which type of error that was.\n",
    "        if track_audio_feats is None:\n",
    "            total_tracks -= 1\n",
    "            continue\n",
    "\n",
    "        for feat, val in track_audio_feats.items():\n",
    "            if feat in CAT_FEATURES:\n",
    "                cat_appearances[feat][val] += 1\n",
    "            elif feat in ORD_FEATURES:\n",
    "                audio_summary[feat] += val\n",
    "    \n",
    "    # Average the ordinal features, mode the categorical.\n",
    "    for feat in ORD_FEATURES:\n",
    "        audio_summary[feat] = round(audio_summary[feat] / total_tracks, 5)\n",
    "    for feat in CAT_FEATURES:\n",
    "        max_appears = \"0\"\n",
    "        for val in CAT_FEATURES[feat]:\n",
    "            if int(cat_appearances[feat][val]) > int(cat_appearances[feat][max_appears]):\n",
    "                max_appears = val\n",
    "        audio_summary[feat] = int(max_appears)\n",
    "    return audio_summary\n"
   ]
  },
  {
   "cell_type": "markdown",
   "metadata": {},
   "source": [
    "#### Normalization"
   ]
  },
  {
   "cell_type": "markdown",
   "metadata": {},
   "source": [
    "Since we're in the business of calculating feature distances, we need to add normalicy of some form.\n",
    "For our purposes, a simple scaling to [0, 1] sufficed, though for some features--namely,\n",
    "duration_ms, possibly loudness--a range of [0, 1] probably led to some false closeless."
   ]
  },
  {
   "cell_type": "code",
   "execution_count": 6,
   "metadata": {},
   "outputs": [],
   "source": [
    "# Calculate the minimum and maximum of each feature across the entire dataset.\n",
    "def min_max_feature(tracks, feature):\n",
    "    max_val = 0.0\n",
    "    min_val = float('inf')\n",
    "    for track in tracks:\n",
    "        if track not in track_audio_data or track_audio_data[track] is None:\n",
    "            continue\n",
    "        track_feat = track_audio_data[track][feature]\n",
    "        if track_feat > max_val:\n",
    "            max_val = track_feat\n",
    "        if track_feat < min_val:\n",
    "            min_val = track_feat\n",
    "    return min_val, max_val\n",
    "\n",
    "# Calculate and store the ranges permanently.\n",
    "feature_mms = {}\n",
    "tracks = list(track_metadata.keys())\n",
    "for feature in ORD_FEATURES:\n",
    "    min_val, max_val = min_max_feature(tracks, feature)\n",
    "    feature_mms[feature] = {\n",
    "        \"min\": min_val,\n",
    "        \"max\": max_val,\n",
    "        \"range\": round(max_val - min_val)\n",
    "    }\n",
    "\n",
    "# Normalize an indivudal feature\n",
    "def feature_normalizer(value, feature):\n",
    "    return (value + feature_mms[feature][\"min\"]) / feature_mms[feature][\"range\"]\n",
    "\n",
    "# Normalize the features of a track\n",
    "def normalize_track(track_audio):\n",
    "    for feature in track_audio.keys():\n",
    "        if feature in ORD_FEATURES:\n",
    "            track_audio[feature] = round(feature_normalizer(track_audio[feature], feature), 5)\n",
    "\n",
    "# Create a normalized copy of every track in a list (playlist)\n",
    "def normalize_tracks(track_list):\n",
    "    normalized = []\n",
    "    for track in track_list:\n",
    "        track = track.copy()\n",
    "        normalize_track(track)\n",
    "        normalized.append(track)\n",
    "    return normalized"
   ]
  },
  {
   "cell_type": "markdown",
   "metadata": {},
   "source": [
    "#### Artist-Playlist Structure\n",
    "Supporting gathering songs with shared artists in a playlist."
   ]
  },
  {
   "cell_type": "code",
   "execution_count": 7,
   "metadata": {},
   "outputs": [
    {
     "name": "stdout",
     "output_type": "stream",
     "text": [
      "{'Disney Studio Chorus': [5233, 5240, 5241], 'Bruce Healey': [5235, 5238]}\n"
     ]
    }
   ],
   "source": [
    "# Determine if a playlist has any songs that share an artist.\n",
    "def has_common_artist(playlist):\n",
    "    tracks = playlist[\"tracks\"]\n",
    "    artists = {}\n",
    "    for song in tracks:\n",
    "        artist_name = track_metadata[str(song)][\"artist_name\"]\n",
    "        if artist_name in artists:\n",
    "            return True\n",
    "        else:\n",
    "            artists[artist_name] = True\n",
    "    return False\n",
    "\n",
    "# Create a dict of sets for artists that have multiple songs in a playlist, and those songs.\n",
    "def common_songs_per_artist(playlist, threshold=2):\n",
    "    tracks = playlist[\"tracks\"]\n",
    "    artists = {}\n",
    "    for track in tracks:\n",
    "        if str(track) not in track_audio_data or track_audio_data[str(track)] is None:\n",
    "            continue\n",
    "        artist_name = track_metadata[str(track)][\"artist_name\"]\n",
    "        if artist_name in artists:\n",
    "            artists[artist_name].append(track)\n",
    "        else:\n",
    "            artists[artist_name] = [track]\n",
    "\n",
    "    artist_groups = {}\n",
    "    for artist, group in artists.items():\n",
    "        if len(group) >= threshold:\n",
    "            artist_groups[artist] = group\n",
    "    return artist_groups"
   ]
  },
  {
   "cell_type": "markdown",
   "metadata": {},
   "source": [
    "#### Distance calculations\n",
    "In the long term, we would have liked to train regressors on this instead of using L2."
   ]
  },
  {
   "cell_type": "code",
   "execution_count": 9,
   "metadata": {},
   "outputs": [],
   "source": [
    "# Calculate the total error between every track in a list, tracking the given features.\n",
    "def group_feature_error(tracks, feature_filter):\n",
    "    \n",
    "    # Normalize the tracks before calculating distances.\n",
    "    tracks = normalize_tracks(tracks)\n",
    "    audio_features = {}\n",
    "    for feature in feature_filter:\n",
    "        try:\n",
    "            audio_features[feature] = [track[feature] for track in tracks]\n",
    "        except KeyError:\n",
    "            print(tracks)\n",
    "    \n",
    "    total_error = 0.0\n",
    "    # For every feature, get every track's value of that feature, and sum the distance per pair.\n",
    "    for feature, values in audio_features.items():\n",
    "        pairs = permutations(values, 2)\n",
    "\n",
    "        # Naive implementation of categorical feature mismatch. \n",
    "        # Should ideally be calculated as something else.\n",
    "        if feature in CAT_FEATURES:\n",
    "            for pair in pairs:\n",
    "                if pair[0] != pair[1]:\n",
    "                    total_error += 0.125\n",
    "        else:\n",
    "            for pair in pairs:\n",
    "                total_error += (pair[0] - pair[1]) ** 2\n",
    "\n",
    "    return total_error\n",
    "\n",
    "# Get the error for every single artist's whole library under the given feature.\n",
    "def artist_groups_error(artist_groups, feature_filter):\n",
    "    total_error = 0.0\n",
    "    for group in artist_groups:\n",
    "        tracks = [track_audio_data[str(track)] for track in group]\n",
    "        total_error += group_feature_error(tracks, feature_filter)\n",
    "    return total_error"
   ]
  },
  {
   "cell_type": "markdown",
   "metadata": {},
   "source": [
    "#### Global Artist-Song Relation Structures\n",
    "The structres here are for large-scale precomputation, to save already slow processes some time."
   ]
  },
  {
   "cell_type": "code",
   "execution_count": 11,
   "metadata": {},
   "outputs": [],
   "source": [
    "all_playlist_artist_groups = []\n",
    "for playlist in playlist_data:\n",
    "    all_playlist_artist_groups.append(list(common_songs_per_artist(playlist).values()))\n",
    "\n",
    "# Get the set for every artist.\n",
    "artist_songs_global = {}\n",
    "\n",
    "# Greedily calculate and *store* the audio per song group to save on large dict lookups later.\n",
    "global_songs_audio = {}\n",
    "\n",
    "for track in track_metadata.keys():\n",
    "    if str(track) not in track_audio_data or track_audio_data[str(track)] is None:\n",
    "        continue\n",
    "    artist = track_metadata[track][\"artist_name\"]\n",
    "    if artist not in artist_songs_global:\n",
    "        artist_songs_global[artist] = [int(track)]\n",
    "        global_songs_audio[artist] = {int(track): track_audio_data[track]}\n",
    "    else:\n",
    "        artist_songs_global[artist].append(int(track))\n",
    "        global_songs_audio[artist][int(track)] = track_audio_data[track]"
   ]
  },
  {
   "cell_type": "markdown",
   "metadata": {},
   "source": [
    "#### Feature Error \n",
    "Calculates how inconsistent each feature is across the global set of playlists.\n",
    "\n",
    "Rather slow, so the result of our naive distance calculation has been hard-coded as a time-saving measure.s"
   ]
  },
  {
   "cell_type": "code",
   "execution_count": 12,
   "metadata": {},
   "outputs": [],
   "source": [
    "# SWAP THESE TWO BLOCKS' COMMENTS\n",
    "\n",
    "# total_error = 0.0\n",
    "# feature_error = {}\n",
    "# for feature in ORD_FEATURES:\n",
    "#     total_error = 0.0\n",
    "#     for playlist_groups in all_playlist_artist_groups:\n",
    "#         total_error += artist_groups_error(playlist_groups, [feature])\n",
    "#     feature_error[feature] = total_error\n",
    "#\n",
    "# for feature in CAT_FEATURES.keys():\n",
    "#     total_error = 0.0\n",
    "#     for playlist_groups in all_playlist_artist_groups:\n",
    "#         total_error += artist_groups_error(playlist_groups, [feature])\n",
    "#     feature_error[feature] = total_error\n",
    "\n",
    "# Or, to save computational time later (this took 80m though could be sped up significantly through pre-computation): \n",
    "\n",
    "feature_error = {\n",
    "    'danceability': 10003893.968445968,\n",
    "    'energy': 16634120.566690098,\n",
    "    'loudness': 1209632.480114869,\n",
    "    'speechiness': 5083513.644521113,\n",
    "    'acousticness': 28699650.930126116,\n",
    "    'liveness': 18470271.84208595,\n",
    "    'valence': 25369018.24589998,\n",
    "    'tempo': 8958036.561555453,\n",
    "    'duration_ms': 106308.21551548693,\n",
    "    'time_signature': 7260695.5,\n",
    "    'key': 37147449.0,\n",
    "    'mode': 16639480.75\n",
    "}"
   ]
  },
  {
   "cell_type": "markdown",
   "metadata": {},
   "source": [
    "A quick sort tells us that key, acousticness, liveness, and valence are particularly errorneous.\n",
    "\n",
    "Perhaps that is an indicator of poor performance, or that many playlists happen to have divergent sub-sets.\n",
    "Regardless, stash them and use the remaining 7."
   ]
  },
  {
   "cell_type": "code",
   "execution_count": 13,
   "metadata": {},
   "outputs": [
    {
     "name": "stdout",
     "output_type": "stream",
     "text": [
      "{\n",
      "    \"duration_ms\": 106308.21551548693,\n",
      "    \"loudness\": 1209632.480114869,\n",
      "    \"speechiness\": 5083513.644521113,\n",
      "    \"time_signature\": 7260695.5,\n",
      "    \"tempo\": 8958036.561555453,\n",
      "    \"danceability\": 10003893.968445968,\n",
      "    \"energy\": 16634120.566690098,\n",
      "    \"mode\": 16639480.75,\n",
      "    \"liveness\": 18470271.84208595,\n",
      "    \"valence\": 25369018.24589998,\n",
      "    \"acousticness\": 28699650.930126116,\n",
      "    \"key\": 37147449.0\n",
      "}\n"
     ]
    }
   ],
   "source": [
    "sorted_feature_error = {pair[0]: pair[1] for pair in sorted(feature_error.items(), key=lambda x: x[1])}\n",
    "print(json.dumps(sorted_feature_error, indent=4))\n",
    "\n",
    "# So the features that perform the best are:\n",
    "# duration_ms (entirely possible that this is a fault of the normalization)\n",
    "# loudness (also has a larger range than target area)\n",
    "# speechiness\n",
    "# time_signature (perhaps as it's mostly 4)\n",
    "# tempo\n",
    "# danceability\n",
    "# So try using distance calculation recommendations off of these."
   ]
  },
  {
   "cell_type": "markdown",
   "metadata": {},
   "source": [
    "#### Recommendation Functions\n",
    "What this whole thing is actually about.\n",
    "\n",
    "We tried two different strategies, recommending based on the tracks, and recommending based on the playlist summary."
   ]
  },
  {
   "cell_type": "code",
   "execution_count": 14,
   "metadata": {},
   "outputs": [],
   "source": [
    "# Recommend tracks that share an artist with a present song, \n",
    "# ranked by how close they are to any of that artist's songs present\n",
    "def recommend_songs_from_tracks(sample_playlist, distance_metrics):\n",
    "\n",
    "    # Get the set of artists, and the relevant tracks/audios \n",
    "    sample_artists = common_songs_per_artist(sample_playlist, threshold=1)\n",
    "    artist_tracks = {artist: artist_songs_global[artist] for artist in sample_artists.keys()}\n",
    "    local_audios = {artist: global_songs_audio[artist] for artist in artist_tracks.keys()}\n",
    "    track_smallest_dist = {}\n",
    "\n",
    "    # For every present artist, test all of their tracks against every one of their tracks\n",
    "    # that is in the playlist.\n",
    "    # This would be one of the places to experiment the most, going forward.\n",
    "    for artist, tracks in artist_tracks.items():\n",
    "        local_tracks = sample_artists[artist]\n",
    "        for test_track in tracks:\n",
    "            test_audio = track_audio_data[str(test_track)]\n",
    "            dist = float('inf')\n",
    "            for present_track in local_tracks:\n",
    "                present_audio = local_audios[artist][present_track]\n",
    "                dist = min(dist, group_feature_error([present_audio, \n",
    "                                                      test_audio], \n",
    "                                                     distance_metrics))\n",
    "            track_smallest_dist[test_track] = dist\n",
    "\n",
    "    # Sort and return the calculated distances.\n",
    "    closest_tracks = [pair[0] for pair in sorted(track_smallest_dist.items(), key=lambda x: x[1])]\n",
    "    return closest_tracks\n",
    "\n",
    "# Recommend tracks that share an artist with a present song, \n",
    "# ranked by how close they are to the playlist summary.\n",
    "def recommend_songs_from_summary(sample_playlist, distance_metrics):\n",
    "    sample_artists = common_songs_per_artist(sample_playlist, threshold=1)\n",
    "    artist_tracks = {artist: artist_songs_global[artist] for artist in sample_artists.keys()}\n",
    "    track_smallest_dist = {}\n",
    "\n",
    "    # For every present artist, test all of their tracks against the playlist's summary.\n",
    "    # This would be one of the places to experiment the most, going forward.\n",
    "    # It's difficult to tell exactly how effective this is.\n",
    "    playlist_imitation_audio = playlist_summary(sample_playlist)\n",
    "    for tracks in artist_tracks.values():\n",
    "        for test_track in tracks:\n",
    "            test_audio = track_audio_data[str(test_track)]\n",
    "            dist = group_feature_error([test_audio, playlist_imitation_audio], distance_metrics)\n",
    "            track_smallest_dist[test_track] = dist\n",
    "\n",
    "    # Sort and return the calculated distances.\n",
    "    closest_tracks = [pair[0] for pair in sorted(track_smallest_dist.items(), key=lambda x: x[1])]\n",
    "    return closest_tracks\n"
   ]
  },
  {
   "cell_type": "markdown",
   "metadata": {},
   "source": [
    "#### Masking and Performance\n",
    "Our attempt at gauging accuracy, using a version of masking protocols we've previously seen.\n",
    "\n",
    "It's effective for track-based recommendation, but has relative issue with playlist-based."
   ]
  },
  {
   "cell_type": "code",
   "execution_count": 16,
   "metadata": {},
   "outputs": [],
   "source": [
    "# Create a masked version of the playlist, removing a sort per artist that has >= 2 songs\n",
    "def mask_playlist(playlist):\n",
    "    masked_playlist = dict(playlist)\n",
    "    masked_playlist['tracks'] = playlist['tracks'].copy()\n",
    "\n",
    "    # Retain the masked songs as a set of targets.\n",
    "    targets = {}\n",
    "    track_artist_groups = common_songs_per_artist(masked_playlist)\n",
    "    for artist, track_group in track_artist_groups.items():\n",
    "        target_track = track_group[random.randrange(len(track_group))]\n",
    "        masked_playlist['tracks'].pop(masked_playlist['tracks'].index(target_track))\n",
    "        masked_playlist['num_tracks'] -= 1\n",
    "        if target_track in masked_playlist['tracks']:\n",
    "            continue\n",
    "        targets[artist] = target_track\n",
    "\n",
    "    return masked_playlist, targets\n",
    "\n",
    "# Create a set of targets for a playlist, and determine each's placement\n",
    "# in both recommendation lists based on the given distance metrics.\n",
    "def recommendation_position(playlist, distance_metrics):\n",
    "    masked_list, targets = mask_playlist(playlist)\n",
    "    recommendation_summary = recommend_songs_from_summary(masked_list, distance_metrics)\n",
    "    recommendation_tracks = recommend_songs_from_tracks(masked_list, distance_metrics)\n",
    "    positions = {\"tracks\": {}, \"summary\": {}, \"length\": len(recommendation_tracks)}\n",
    "    for song in targets.values():\n",
    "        positions[\"summary\"][song] = recommendation_summary.index(song)\n",
    "        positions[\"tracks\"][song] = recommendation_tracks.index(song)\n",
    "    return positions\n",
    "\n",
    "# Generate a handful of metrics on the positions of a playlist target recommendations.\n",
    "def recommendation_performance(playlist, distance_metrics):\n",
    "    positions = recommendation_position(playlist, distance_metrics)\n",
    "    track_perf = sorted(list(positions[\"tracks\"].values()))\n",
    "    summ_perf = sorted(list(positions[\"summary\"].values()))\n",
    "    performance = {\n",
    "        \"summary\": {\n",
    "            \"best\": summ_perf[0],\n",
    "            \"worst\": summ_perf[-1],\n",
    "            \"median\": summ_perf[math.floor((len(summ_perf) - 1) / 2)],\n",
    "            \"out_of\": positions[\"length\"]\n",
    "        },\n",
    "        \"tracks\": {\n",
    "            \"best\": track_perf[0],\n",
    "            \"worst\": track_perf[-1],\n",
    "            \"median\": track_perf[math.floor((len(track_perf) - 1) / 2)],\n",
    "            \"out_of\": positions[\"length\"]\n",
    "        }\n",
    "    }\n",
    "    return performance"
   ]
  },
  {
   "cell_type": "code",
   "execution_count": 28,
   "metadata": {},
   "outputs": [
    {
     "name": "stdout",
     "output_type": "stream",
     "text": [
      "Onto ('duration_ms', 'loudness'). 56.0 remaining\n",
      "Onto ('duration_ms', 'speechiness'). 55.0 remaining\n",
      "list index out of range: ('duration_ms', 'speechiness'): {'name': 'disney', 'collaborative': 'false', 'pid': 100266, 'modified_at': 1435708800, 'num_tracks': 21, 'num_albums': 17, 'num_followers': 1, 'tracks': [10455, 10455, 13105, 10459, 22729, 13881, 13110, 7080, 13112, 28337, 13882, 27981, 27974, 43513, 156985, 67369, 28323, 28324, 28325, 123928, 28326], 'num_edits': 2, 'duration_ms': 3991595, 'num_artists': 20}\n",
      "Onto ('duration_ms', 'time_signature'). 54.0 remaining\n",
      "list index out of range: ('duration_ms', 'time_signature'): {'name': 'Mondays', 'collaborative': 'false', 'pid': 100642, 'modified_at': 1499040000, 'num_tracks': 30, 'num_albums': 29, 'num_followers': 1, 'tracks': [11166, 799, 281, 819, 296, 37224, 4658, 751, 6744, 7122, 20323, 36639, 8780, 48643, 818, 794, 772, 805, 1031, 11163, 738, 742, 61122, 813, 462699, 806, 52186, 2674, 772, 753], 'num_edits': 3, 'duration_ms': 7529728, 'num_artists': 29}\n",
      "Onto ('duration_ms', 'tempo'). 53.0 remaining\n",
      "Onto ('duration_ms', 'danceability'). 52.0 remaining\n",
      "Onto ('duration_ms', 'energy'). 51.0 remaining\n",
      "list index out of range: ('duration_ms', 'energy'): {'name': 'THE WEEKND', 'collaborative': 'false', 'pid': 101329, 'modified_at': 1467763200, 'num_tracks': 30, 'num_albums': 11, 'num_followers': 2, 'tracks': [5505, 8308, 14458, 12678, 3561, 8309, 8315, 8273, 1045, 14458, 15910, 1042, 4260, 625, 50145, 33497, 4753, 4267, 24731, 9732, 1044, 625, 16818, 9732, 3561, 11690, 13170, 4753, 24748, 9706], 'num_edits': 6, 'duration_ms': 8730881, 'num_artists': 7}\n",
      "Onto ('duration_ms', 'mode'). 50.0 remaining\n",
      "list index out of range: ('duration_ms', 'mode'): {'name': 'UBER', 'collaborative': 'true', 'pid': 101564, 'modified_at': 1480291200, 'num_tracks': 12, 'num_albums': 11, 'num_followers': 1, 'tracks': [4754, 53747, 310670, 314077, 5261, 270863, 9008, 96602, 5261, 12983, 2701, 2700], 'num_edits': 11, 'duration_ms': 2588331, 'num_artists': 11}\n",
      "Onto ('loudness', 'duration_ms'). 49.0 remaining\n",
      "Onto ('loudness', 'speechiness'). 48.0 remaining\n",
      "Onto ('loudness', 'time_signature'). 47.0 remaining\n",
      "list index out of range: ('loudness', 'time_signature'): {'name': '❤️❤️❤️❤️', 'collaborative': 'false', 'pid': 102288, 'modified_at': 1503878400, 'num_tracks': 8, 'num_albums': 5, 'num_followers': 1, 'tracks': [54074, 54074, 54074, 108260, 10073, 8994, 8994, 373730], 'num_edits': 6, 'duration_ms': 1721160, 'num_artists': 5}\n",
      "list index out of range: ('loudness', 'time_signature'): {'name': 'groove', 'collaborative': 'false', 'pid': 102462, 'modified_at': 1504915200, 'num_tracks': 15, 'num_albums': 13, 'num_followers': 1, 'tracks': [38510, 403074, 86123, 107466, 691133, 93373, 691134, 615484, 691135, 620855, 271975, 375684, 375684, 245914, 66394], 'num_edits': 10, 'duration_ms': 3113939, 'num_artists': 13}\n",
      "list index out of range: ('loudness', 'time_signature'): {'name': 'Yacht Rock', 'collaborative': 'false', 'pid': 102478, 'modified_at': 1389916800, 'num_tracks': 17, 'num_albums': 16, 'num_followers': 1, 'tracks': [22859, 353795, 97209, 46883, 281070, 44251, 62229, 37460, 3166, 46889, 49486, 49485, 122531, 4363, 37450, 23960, 97209], 'num_edits': 3, 'duration_ms': 4146198, 'num_artists': 16}\n",
      "Onto ('loudness', 'tempo'). 46.0 remaining\n",
      "Onto ('loudness', 'danceability'). 45.0 remaining\n",
      "list index out of range: ('loudness', 'danceability'): {'name': 'road trip ', 'collaborative': 'false', 'pid': 102837, 'modified_at': 1507248000, 'num_tracks': 8, 'num_albums': 7, 'num_followers': 1, 'tracks': [119391, 7830, 2308, 2308, 15895, 31041, 692770, 41335], 'num_edits': 7, 'duration_ms': 1877265, 'num_artists': 7}\n",
      "list index out of range: ('loudness', 'danceability'): {'name': 'Workout Playlist', 'collaborative': 'false', 'pid': 102990, 'modified_at': 1503878400, 'num_tracks': 9, 'num_albums': 8, 'num_followers': 1, 'tracks': [1359, 6326, 946, 14397, 45370, 3145, 5534, 38100, 1359], 'num_edits': 2, 'duration_ms': 2144076, 'num_artists': 8}\n",
      "Onto ('loudness', 'energy'). 44.0 remaining\n",
      "Onto ('loudness', 'mode'). 43.0 remaining\n",
      "list index out of range: ('loudness', 'mode'): {'name': 'Coldplay', 'collaborative': 'false', 'pid': 103312, 'modified_at': 1500508800, 'num_tracks': 134, 'num_albums': 27, 'num_followers': 2, 'tracks': [59218, 4225, 13414, 7939, 63520, 7247, 147249, 170256, 4642, 4230, 13415, 82834, 55280, 23910, 49410, 7967, 2502, 123213, 59692, 47156, 4680, 10621, 98285, 49461, 55788, 20103, 7577, 9129, 4224, 2662, 26287, 31253, 47512, 70902, 70474, 7561, 26285, 122440, 26286, 74670, 61893, 46313, 84235, 70474, 84236, 77140, 84237, 170255, 62586, 22082, 19177, 42179, 479340, 4220, 4702, 4223, 32885, 4221, 4702, 4220, 63603, 163855, 4685, 96992, 163856, 4222, 20896, 19557, 31879, 69721, 102502, 170255, 110917, 186614, 31253, 46276, 77743, 63520, 7247, 226767, 149638, 147249, 77772, 170256, 31879, 69721, 102502, 110917, 186614, 4642, 20896, 46276, 82832, 82833, 49242, 82835, 82836, 82837, 188301, 49408, 194795, 49409, 25607, 32899, 76218, 172696, 114849, 19772, 189409, 77743, 129017, 77743, 226767, 149638, 77772, 417261, 417263, 687650, 47156, 339934, 92804, 339933, 512285, 25607, 517798, 32899, 20896, 119827, 141554, 14846, 83311, 8959, 49885, 370633], 'num_edits': 19, 'duration_ms': 33603352, 'num_artists': 3}\n",
      "Onto ('speechiness', 'duration_ms'). 42.0 remaining\n",
      "list index out of range: ('speechiness', 'duration_ms'): {'name': 'Love songs', 'collaborative': 'false', 'pid': 103640, 'modified_at': 1482969600, 'num_tracks': 18, 'num_albums': 17, 'num_followers': 1, 'tracks': [2396, 16237, 15469, 713, 1836, 4290, 1709, 78957, 11554, 3229, 25801, 2362, 4655, 29270, 39606, 7875, 12705, 12705], 'num_edits': 4, 'duration_ms': 4003456, 'num_artists': 17}\n",
      "Onto ('speechiness', 'loudness'). 41.0 remaining\n",
      "Onto ('speechiness', 'time_signature'). 40.0 remaining\n",
      "Onto ('speechiness', 'tempo'). 39.0 remaining\n",
      "Onto ('speechiness', 'danceability'). 38.0 remaining\n",
      "Onto ('speechiness', 'energy'). 37.0 remaining\n",
      "list index out of range: ('speechiness', 'energy'): {'name': 'Justin Bieber ', 'collaborative': 'false', 'pid': 104752, 'modified_at': 1456704000, 'num_tracks': 87, 'num_albums': 18, 'num_followers': 1, 'tracks': [1590, 1590, 1590, 1590, 1590, 4873, 4873, 4873, 1590, 1590, 1590, 10664, 10664, 10664, 9202, 9202, 9202, 26515, 26515, 26515, 214887, 214887, 214887, 2165, 2165, 214887, 214887, 214887, 214887, 214887, 29290, 214887, 214887, 214887, 28970, 28970, 28970, 28970, 116257, 36, 12068, 52451, 36, 31403, 31403, 29289, 29289, 29289, 29301, 29300, 28041, 9406, 19181, 36417, 36417, 36417, 7872, 1027, 2466, 6929, 719, 6929, 6929, 6929, 2645, 2645, 6284, 6284, 6284, 6284, 6284, 6284, 6284, 6284, 6284, 6284, 6284, 6284, 6284, 6284, 36417, 2165, 12068, 12068, 52451, 52451, 133956], 'num_edits': 14, 'duration_ms': 20096382, 'num_artists': 7}\n",
      "Onto ('speechiness', 'mode'). 36.0 remaining\n",
      "list index out of range: ('speechiness', 'mode'): {'name': 'Song of the Day', 'collaborative': 'false', 'pid': 105167, 'modified_at': 1481846400, 'num_tracks': 33, 'num_albums': 32, 'num_followers': 1, 'tracks': [26770, 553086, 325083, 21577, 149157, 11667, 6997, 685580, 55914, 701266, 142035, 75048, 137416, 50641, 15576, 112064, 34275, 2061, 96468, 117328, 95995, 148192, 62134, 408816, 105255, 195091, 26670, 137416, 701267, 509933, 590193, 701268, 10496], 'num_edits': 33, 'duration_ms': 8033154, 'num_artists': 32}\n",
      "Onto ('time_signature', 'duration_ms'). 35.0 remaining\n",
      "Onto ('time_signature', 'loudness'). 34.0 remaining\n",
      "Onto ('time_signature', 'speechiness'). 33.0 remaining\n",
      "list index out of range: ('time_signature', 'speechiness'): {'name': 'mixxx', 'collaborative': 'false', 'pid': 105758, 'modified_at': 1502668800, 'num_tracks': 27, 'num_albums': 26, 'num_followers': 1, 'tracks': [1335, 1213, 1337, 20960, 1663, 404, 1213, 1413, 8117, 10368, 4634, 1330, 16259, 1211, 3545, 1205, 11112, 1398, 1191, 1159, 1403, 43414, 4253, 13171, 3617, 1945, 4772], 'num_edits': 7, 'duration_ms': 5636541, 'num_artists': 26}\n",
      "list index out of range: ('time_signature', 'speechiness'): {'name': 'Jill Scott ', 'collaborative': 'false', 'pid': 105792, 'modified_at': 1447200000, 'num_tracks': 99, 'num_albums': 8, 'num_followers': 3, 'tracks': [54159, 183870, 32731, 157122, 76523, 157121, 262001, 330185, 9729, 204404, 147008, 185922, 110043, 32733, 32732, 145086, 79329, 79331, 54154, 54155, 54156, 54157, 54158, 54159, 54160, 54161, 54162, 54163, 54164, 54165, 54166, 54167, 54168, 54169, 1917, 638315, 517124, 124452, 32734, 121655, 76524, 170910, 32853, 358504, 79330, 607211, 79332, 381172, 556817, 358505, 76823, 370928, 185923, 185924, 61904, 190302, 703196, 185925, 121792, 185926, 185927, 124448, 703197, 185928, 181472, 121656, 703198, 147008, 185922, 9729, 84489, 110043, 519741, 703199, 294360, 60214, 703200, 204404, 183859, 703201, 217793, 703202, 183870, 84503, 157121, 157122, 330185, 32731, 358490, 76521, 76522, 262001, 75311, 124450, 145111, 548615, 76523, 703203, 217789], 'num_edits': 5, 'duration_ms': 23013307, 'num_artists': 3}\n",
      "list index out of range: ('time_signature', 'speechiness'): {'name': '<3', 'collaborative': 'false', 'pid': 105844, 'modified_at': 1494201600, 'num_tracks': 10, 'num_albums': 7, 'num_followers': 1, 'tracks': [4065, 4066, 2415, 7418, 4065, 711, 2419, 7418, 1171, 7418], 'num_edits': 3, 'duration_ms': 2852323, 'num_artists': 7}\n",
      "Onto ('time_signature', 'tempo'). 32.0 remaining\n",
      "list index out of range: ('time_signature', 'tempo'): {'name': 'BEATS', 'collaborative': 'false', 'pid': 106148, 'modified_at': 1385510400, 'num_tracks': 11, 'num_albums': 10, 'num_followers': 1, 'tracks': [11693, 13397, 237219, 956, 14077, 56313, 38297, 283552, 4252, 3068, 283552], 'num_edits': 5, 'duration_ms': 2507019, 'num_artists': 9}\n",
      "Onto ('time_signature', 'danceability'). 31.0 remaining\n",
      "Onto ('time_signature', 'energy'). 30.0 remaining\n",
      "Onto ('time_signature', 'mode'). 29.0 remaining\n",
      "Onto ('tempo', 'duration_ms'). 28.0 remaining\n",
      "list index out of range: ('tempo', 'duration_ms'): {'name': 'good feels', 'collaborative': 'false', 'pid': 107110, 'modified_at': 1409356800, 'num_tracks': 33, 'num_albums': 31, 'num_followers': 1, 'tracks': [33062, 95888, 6921, 248292, 15577, 23229, 46352, 705, 67812, 32813, 7357, 15573, 147389, 30059, 13460, 363391, 3694, 25776, 35944, 53504, 363391, 43798, 129919, 23236, 31263, 67815, 144676, 67813, 22071, 7818, 91582, 67812, 11869], 'num_edits': 8, 'duration_ms': 6993017, 'num_artists': 30}\n",
      "Onto ('tempo', 'loudness'). 27.0 remaining\n",
      "list index out of range: ('tempo', 'loudness'): {'name': 'Blood', 'collaborative': 'false', 'pid': 107337, 'modified_at': 1369094400, 'num_tracks': 5, 'num_albums': 4, 'num_followers': 1, 'tracks': [7381, 384441, 93142, 384441, 708400], 'num_edits': 3, 'duration_ms': 1002933, 'num_artists': 3}\n",
      "Onto ('tempo', 'speechiness'). 26.0 remaining\n",
      "Onto ('tempo', 'time_signature'). 25.0 remaining\n",
      "list index out of range: ('tempo', 'time_signature'): {'name': 'Akon', 'collaborative': 'false', 'pid': 107762, 'modified_at': 1456790400, 'num_tracks': 19, 'num_albums': 15, 'num_followers': 2, 'tracks': [18500, 2741, 6931, 26154, 2767, 24604, 17687, 8333, 145758, 194021, 26158, 2767, 8129, 53999, 8122, 3378, 421544, 21302, 437132], 'num_edits': 4, 'duration_ms': 4513875, 'num_artists': 9}\n",
      "list index out of range: ('tempo', 'time_signature'): {'name': 'Acoustics', 'collaborative': 'false', 'pid': 107862, 'modified_at': 1418774400, 'num_tracks': 10, 'num_albums': 9, 'num_followers': 1, 'tracks': [20585, 1706, 26685, 1666, 125670, 1692, 329228, 44045, 20585, 168136], 'num_edits': 3, 'duration_ms': 2297464, 'num_artists': 9}\n",
      "Onto ('tempo', 'danceability'). 24.0 remaining\n",
      "list index out of range: ('tempo', 'danceability'): {'name': 'One Direction', 'collaborative': 'false', 'pid': 108047, 'modified_at': 1405296000, 'num_tracks': 30, 'num_albums': 9, 'num_followers': 1, 'tracks': [12380, 4636, 22855, 2139, 4606, 37327, 6770, 2976, 131077, 37327, 131002, 22854, 6769, 4610, 6766, 43055, 26317, 25144, 43054, 6767, 22845, 22846, 43057, 43058, 43060, 43059, 3235, 1848, 7892, 198299], 'num_edits': 10, 'duration_ms': 6007511, 'num_artists': 4}\n",
      "Onto ('tempo', 'energy'). 23.0 remaining\n",
      "list index out of range: ('tempo', 'energy'): {'name': 'In Da Club', 'collaborative': 'false', 'pid': 108276, 'modified_at': 1412208000, 'num_tracks': 25, 'num_albums': 19, 'num_followers': 1, 'tracks': [9159, 68431, 1849, 68432, 260307, 68434, 68430, 13807, 6745, 66664, 4231, 3352, 177168, 7169, 115179, 669, 52228, 73411, 98026, 98682, 115179, 398376, 711602, 360, 579], 'num_edits': 6, 'duration_ms': 6979374, 'num_artists': 24}\n",
      "list index out of range: ('tempo', 'energy'): {'name': 'Coffee Shop', 'collaborative': 'false', 'pid': 108336, 'modified_at': 1393286400, 'num_tracks': 10, 'num_albums': 8, 'num_followers': 1, 'tracks': [1171, 3094, 13586, 5545, 17923, 2409, 3094, 6578, 17923, 5738], 'num_edits': 5, 'duration_ms': 2296130, 'num_artists': 8}\n",
      "Onto ('tempo', 'mode'). 22.0 remaining\n",
      "Onto ('danceability', 'duration_ms'). 21.0 remaining\n",
      "list index out of range: ('danceability', 'duration_ms'): {'name': 'My Songs', 'collaborative': 'false', 'pid': 108813, 'modified_at': 1449532800, 'num_tracks': 13, 'num_albums': 12, 'num_followers': 1, 'tracks': [713678, 10679, 713679, 713679, 85690, 2617, 2021, 24764, 5533, 99442, 54546, 1336, 24779], 'num_edits': 3, 'duration_ms': 2702775, 'num_artists': 12}\n",
      "Onto ('danceability', 'loudness'). 20.0 remaining\n",
      "list index out of range: ('danceability', 'loudness'): {'name': 'Summer 2017', 'collaborative': 'false', 'pid': 109108, 'modified_at': 1504137600, 'num_tracks': 17, 'num_albums': 16, 'num_followers': 1, 'tracks': [1330, 3924, 1191, 1413, 8866, 1663, 2075, 3072, 221142, 10653, 3974, 456, 2420, 1193, 1400, 1191, 125302], 'num_edits': 5, 'duration_ms': 3418550, 'num_artists': 16}\n",
      "Onto ('danceability', 'speechiness'). 19.0 remaining\n",
      "list index out of range: ('danceability', 'speechiness'): {'name': 'sex playlist', 'collaborative': 'false', 'pid': 109383, 'modified_at': 1486339200, 'num_tracks': 37, 'num_albums': 5, 'num_followers': 1, 'tracks': [3349, 3349, 3349, 3349, 3349, 3349, 3349, 3349, 3349, 3349, 3349, 3349, 419819, 419819, 419819, 419819, 419819, 419819, 419819, 419819, 419819, 419819, 419819, 419819, 419819, 70112, 70112, 70112, 70112, 70112, 70112, 70112, 70112, 70112, 70112, 6196, 3352], 'num_edits': 4, 'duration_ms': 8338339, 'num_artists': 5}\n",
      "Onto ('danceability', 'time_signature'). 18.0 remaining\n",
      "Onto ('danceability', 'tempo'). 17.0 remaining\n",
      "Onto ('danceability', 'energy'). 16.0 remaining\n",
      "Onto ('danceability', 'mode'). 15.0 remaining\n",
      "Onto ('energy', 'duration_ms'). 14.0 remaining\n",
      "Onto ('energy', 'loudness'). 13.0 remaining\n",
      "list index out of range: ('energy', 'loudness'): {'name': 'Thursday', 'collaborative': 'false', 'pid': 110780, 'modified_at': 1462147200, 'num_tracks': 10, 'num_albums': 9, 'num_followers': 2, 'tracks': [1808, 9744, 9744, 0, 277505, 16227, 8800, 72360, 31563, 18246], 'num_edits': 2, 'duration_ms': 2102699, 'num_artists': 8}\n",
      "Onto ('energy', 'speechiness'). 12.0 remaining\n",
      "Onto ('energy', 'time_signature'). 11.0 remaining\n",
      "Onto ('energy', 'tempo'). 10.0 remaining\n",
      "list index out of range: ('energy', 'tempo'): {'name': 'Vampire', 'collaborative': 'false', 'pid': 111645, 'modified_at': 1470787200, 'num_tracks': 19, 'num_albums': 14, 'num_followers': 1, 'tracks': [313136, 82379, 82381, 113258, 48885, 113259, 82381, 82378, 7653, 14368, 214687, 610381, 44296, 803, 122556, 3996, 40043, 11888, 369361], 'num_edits': 8, 'duration_ms': 4905887, 'num_artists': 18}\n",
      "list index out of range: ('energy', 'tempo'): {'name': 'U.S.A.', 'collaborative': 'false', 'pid': 111718, 'modified_at': 1397865600, 'num_tracks': 16, 'num_albums': 13, 'num_followers': 1, 'tracks': [367, 8339, 723239, 723240, 3083, 602862, 30284, 57744, 71732, 3083, 86747, 1047, 367, 1711, 6979, 7967], 'num_edits': 9, 'duration_ms': 3416136, 'num_artists': 13}\n",
      "Onto ('energy', 'danceability'). 9.0 remaining\n",
      "Onto ('energy', 'mode'). 8.0 remaining\n",
      "list index out of range: ('energy', 'mode'): {'name': 'Atmosphere', 'collaborative': 'false', 'pid': 112142, 'modified_at': 1402099200, 'num_tracks': 45, 'num_albums': 9, 'num_followers': 1, 'tracks': [106705, 159077, 187121, 52321, 384292, 252605, 119842, 44826, 217289, 273812, 44825, 77277, 50720, 124041, 384293, 69317, 208679, 53793, 204823, 119847, 696143, 323057, 724852, 195182, 341563, 106706, 82593, 194731, 724853, 217310, 194750, 341563, 366757, 201109, 121367, 194758, 82499, 201110, 372720, 372717, 724854, 445342, 372711, 696797, 194719], 'num_edits': 7, 'duration_ms': 10363485, 'num_artists': 3}\n",
      "list index out of range: ('energy', 'mode'): {'name': 'Meghan Trainor', 'collaborative': 'false', 'pid': 112157, 'modified_at': 1429574400, 'num_tracks': 11, 'num_albums': 6, 'num_followers': 1, 'tracks': [11644, 946, 80362, 3198, 944, 938, 719, 360, 11644, 4229, 935], 'num_edits': 5, 'duration_ms': 2336875, 'num_artists': 6}\n",
      "Onto ('mode', 'duration_ms'). 7.0 remaining\n",
      "list index out of range: ('mode', 'duration_ms'): {'name': '2017 mix', 'collaborative': 'false', 'pid': 112497, 'modified_at': 1491696000, 'num_tracks': 52, 'num_albums': 51, 'num_followers': 1, 'tracks': [3917, 2698, 4629, 2700, 1333, 4191, 7525, 2076, 2102, 22587, 18765, 8934, 45119, 17307, 4698, 1010, 2117, 2335, 27563, 2488, 9681, 8743, 29020, 350, 3929, 3923, 3971, 3435, 5698, 3928, 874, 1886, 1888, 1026, 1663, 16848, 3574, 1159, 7524, 7525, 8809, 3538, 9295, 3927, 3545, 7520, 2420, 2693, 6873, 1889, 726035, 40277], 'num_edits': 7, 'duration_ms': 11404555, 'num_artists': 51}\n",
      "Onto ('mode', 'loudness'). 6.0 remaining\n",
      "Onto ('mode', 'speechiness'). 5.0 remaining\n",
      "list index out of range: ('mode', 'speechiness'): {'name': 'Ayee', 'collaborative': 'false', 'pid': 112766, 'modified_at': 1491350400, 'num_tracks': 13, 'num_albums': 12, 'num_followers': 1, 'tracks': [297579, 134721, 726745, 16220, 4754, 2701, 726745, 22748, 1396, 2708, 5952, 30441, 14427], 'num_edits': 8, 'duration_ms': 2734227, 'num_artists': 12}\n",
      "Onto ('mode', 'time_signature'). 4.0 remaining\n",
      "list index out of range: ('mode', 'time_signature'): {'name': 'nf', 'collaborative': 'false', 'pid': 113055, 'modified_at': 1438387200, 'num_tracks': 24, 'num_albums': 8, 'num_followers': 1, 'tracks': [75182, 28976, 43463, 66255, 66572, 129731, 43473, 43472, 43466, 29754, 4626, 43464, 43463, 66572, 113720, 43467, 129730, 17727, 186436, 87287, 727681, 5821, 43465, 9467], 'num_edits': 6, 'duration_ms': 5823856, 'num_artists': 7}\n",
      "list index out of range: ('mode', 'time_signature'): {'name': 'old school ', 'collaborative': 'false', 'pid': 113159, 'modified_at': 1481587200, 'num_tracks': 28, 'num_albums': 27, 'num_followers': 1, 'tracks': [8792, 6998, 5601, 7892, 3292, 6720, 23524, 28853, 3129, 4396, 3292, 51, 3288, 3291, 20809, 8449, 8, 4161, 94567, 4155, 4426, 4383, 3298, 3312, 10854, 31746, 10509, 181495], 'num_edits': 6, 'duration_ms': 6450733, 'num_artists': 26}\n",
      "Onto ('mode', 'tempo'). 3.0 remaining\n",
      "Onto ('mode', 'danceability'). 2.0 remaining\n",
      "list index out of range: ('mode', 'danceability'): {'name': 'Memes', 'collaborative': 'false', 'pid': 113707, 'modified_at': 1507420800, 'num_tracks': 42, 'num_albums': 41, 'num_followers': 1, 'tracks': [13919, 3288, 802, 1763, 23521, 4428, 3285, 3388, 4103, 3293, 156614, 31877, 3328, 11880, 1954, 15160, 10469, 15357, 3298, 141391, 12792, 3294, 10472, 3299, 3375, 13919, 2787, 1408, 729945, 91827, 3323, 3325, 6701, 189047, 2514, 3380, 3094, 12794, 41221, 3280, 44, 179319], 'num_edits': 3, 'duration_ms': 9487524, 'num_artists': 41}\n",
      "Onto ('mode', 'energy'). 1.0 remaining\n",
      "list index out of range: ('mode', 'energy'): {'name': 'TobyMac', 'collaborative': 'false', 'pid': 113770, 'modified_at': 1374192000, 'num_tracks': 166, 'num_albums': 10, 'num_followers': 1, 'tracks': [66550, 218145, 66551, 218146, 66552, 50540, 218147, 50527, 218148, 50539, 50528, 200276, 26494, 50529, 50530, 17695, 50531, 50532, 50533, 50534, 50535, 50536, 50537, 50538, 49757, 17695, 50539, 50540, 50541, 50516, 49776, 50517, 50518, 50519, 50520, 50521, 50522, 50523, 50524, 50525, 50526, 49756, 50527, 50528, 426694, 426695, 426696, 426697, 426698, 426699, 426700, 426701, 426702, 426703, 426704, 426705, 426706, 426707, 121466, 426708, 49758, 426709, 426710, 426711, 426712, 66468, 108130, 66467, 730212, 730213, 53077, 108131, 66469, 133856, 730214, 200271, 730215, 66470, 730216, 730217, 730218, 287484, 571390, 164227, 660216, 355664, 660217, 108129, 348044, 529023, 660218, 660219, 660220, 660221, 660222, 164228, 660223, 660224, 660225, 730219, 730220, 730221, 690613, 730222, 730223, 730224, 730225, 730226, 730227, 730228, 730229, 730230, 66468, 108130, 66467, 730212, 730213, 53077, 108131, 66469, 133856, 730214, 200271, 730215, 66470, 730216, 730217, 730218, 287484, 571390, 164227, 660216, 355664, 660217, 108129, 348044, 529023, 660219, 660220, 660221, 660222, 164228, 660223, 660224, 660225, 50464, 17695, 50464, 50493, 50542, 12798, 17694, 26485, 50543, 50544, 50545, 50546, 50547, 50548, 124350, 186591, 105671, 351159, 351160, 259467, 5642], 'num_edits': 4, 'duration_ms': 35008995, 'num_artists': 3}\n"
     ]
    }
   ],
   "source": [
    "distance_metrics = [\"duration_ms\", \"loudness\", \"speechiness\", \"time_signature\", \"tempo\", \"danceability\", \"energy\", \"mode\"]\n",
    "feature_combos = list(permutations(distance_metrics, 2))\n",
    "    \n",
    "combo_performances = {}\n",
    "index = 100000\n",
    "span = 250\n",
    "\n",
    "for combo in feature_combos:\n",
    "    performances = []\n",
    "    for playlist in playlist_data[index:index + span]:\n",
    "        if has_common_artist(playlist):\n",
    "            try:\n",
    "                performances.append(recommendation_performance(playlist, combo))\n",
    "            except IndexError:\n",
    "                continue\n",
    "    combo_performances[combo] = performances\n",
    "    index = index + span"
   ]
  },
  {
   "cell_type": "code",
   "execution_count": 18,
   "metadata": {},
   "outputs": [],
   "source": [
    "agg_perfs = {}\n",
    "\n",
    "metrics = [\"best\", \"worst\", \"median\"]\n",
    "for combo, perfs in combo_performances.items():\n",
    "    combo_string = f\"{combo[0]}-{combo[1]}\"\n",
    "    agg_perfs[combo_string] = {\n",
    "        \"summary\": dict.fromkeys(metrics, 0.0), \n",
    "        \"tracks\": dict.fromkeys(metrics, 0.0)\n",
    "    }\n",
    "    for performance in perfs:\n",
    "        for metric in metrics:\n",
    "            agg_perfs[combo_string][\"summary\"][metric] += (performance[\"summary\"][metric] / performance[\"summary\"][\"out_of\"]) / len(perfs)\n",
    "            agg_perfs[combo_string][\"tracks\"][metric] += (performance[\"tracks\"][metric] / performance[\"tracks\"][\"out_of\"]) / len(perfs)\n"
   ]
  },
  {
   "cell_type": "code",
   "execution_count": 19,
   "metadata": {},
   "outputs": [
    {
     "data": {
      "text/plain": [
       "{'duration_ms-loudness': {'summary': {'best': 0.14406425904168005,\n",
       "   'worst': 0.7515211531689787,\n",
       "   'median': 0.37327648047767664},\n",
       "  'tracks': {'best': 0.10730438292233972,\n",
       "   'worst': 0.7098301862235646,\n",
       "   'median': 0.2880828327609508}},\n",
       " 'duration_ms-speechiness': {'summary': {'best': 0.14997812298617505,\n",
       "   'worst': 0.7775149899476803,\n",
       "   'median': 0.39334423862853024},\n",
       "  'tracks': {'best': 0.11664338815157907,\n",
       "   'worst': 0.755206486308544,\n",
       "   'median': 0.3359681209917398}},\n",
       " 'duration_ms-time_signature': {'summary': {'best': 0.14423875673406283,\n",
       "   'worst': 0.7196910227879353,\n",
       "   'median': 0.3792435249241452},\n",
       "  'tracks': {'best': 0.1405951942489596,\n",
       "   'worst': 0.7234189783111162,\n",
       "   'median': 0.3380433978193563}},\n",
       " 'duration_ms-tempo': {'summary': {'best': 0.18412323113225088,\n",
       "   'worst': 0.8212417997120122,\n",
       "   'median': 0.4627600271096026},\n",
       "  'tracks': {'best': 0.160047187298722,\n",
       "   'worst': 0.7907518251110678,\n",
       "   'median': 0.39568408954545337}},\n",
       " 'duration_ms-danceability': {'summary': {'best': 0.23083604257598803,\n",
       "   'worst': 0.8098766611623963,\n",
       "   'median': 0.4949378830862628},\n",
       "  'tracks': {'best': 0.13533830798060165,\n",
       "   'worst': 0.7258714390199483,\n",
       "   'median': 0.33433311148211403}},\n",
       " 'duration_ms-energy': {'summary': {'best': 0.19261458559200842,\n",
       "   'worst': 0.7763093169582891,\n",
       "   'median': 0.43880336505406853},\n",
       "  'tracks': {'best': 0.1244497384219838,\n",
       "   'worst': 0.7139203304906335,\n",
       "   'median': 0.33768756900297103}},\n",
       " 'duration_ms-mode': {'summary': {'best': 0.14656868313754912,\n",
       "   'worst': 0.7589144415321758,\n",
       "   'median': 0.41600686056358793},\n",
       "  'tracks': {'best': 0.14539349346426464,\n",
       "   'worst': 0.7473489043117302,\n",
       "   'median': 0.3583697599016625}},\n",
       " 'loudness-duration_ms': {'summary': {'best': 0.1580095362588295,\n",
       "   'worst': 0.769045866754241,\n",
       "   'median': 0.42799978889094414},\n",
       "  'tracks': {'best': 0.11845649137058979,\n",
       "   'worst': 0.7057843520200792,\n",
       "   'median': 0.30176365988247283}},\n",
       " 'loudness-speechiness': {'summary': {'best': 0.0998013292436944,\n",
       "   'worst': 0.7801964981167222,\n",
       "   'median': 0.3868543551212869},\n",
       "  'tracks': {'best': 0.10054641931778661,\n",
       "   'worst': 0.7776032350544272,\n",
       "   'median': 0.31948415983045786}},\n",
       " 'loudness-time_signature': {'summary': {'best': 0.1721300442770738,\n",
       "   'worst': 0.7746632871047203,\n",
       "   'median': 0.40857846049544155},\n",
       "  'tracks': {'best': 0.12050103147120723,\n",
       "   'worst': 0.7400732577713245,\n",
       "   'median': 0.30611175063836177}},\n",
       " 'loudness-tempo': {'summary': {'best': 0.12722046839077172,\n",
       "   'worst': 0.789705238913231,\n",
       "   'median': 0.41478301408366947},\n",
       "  'tracks': {'best': 0.11931341833997071,\n",
       "   'worst': 0.7435350689272542,\n",
       "   'median': 0.3442167695432377}},\n",
       " 'loudness-danceability': {'summary': {'best': 0.23936569210745437,\n",
       "   'worst': 0.8734197851137606,\n",
       "   'median': 0.560973432456723},\n",
       "  'tracks': {'best': 0.09460743306621859,\n",
       "   'worst': 0.70792002949802,\n",
       "   'median': 0.2963855991706586}},\n",
       " 'loudness-energy': {'summary': {'best': 0.1882782611683219,\n",
       "   'worst': 0.816035479628786,\n",
       "   'median': 0.45719479129321444},\n",
       "  'tracks': {'best': 0.08215793173897164,\n",
       "   'worst': 0.7303477728696955,\n",
       "   'median': 0.3008868380634502}},\n",
       " 'loudness-mode': {'summary': {'best': 0.15505374456763452,\n",
       "   'worst': 0.7829570135343747,\n",
       "   'median': 0.43952454995640117},\n",
       "  'tracks': {'best': 0.09972900461516793,\n",
       "   'worst': 0.7471093742106935,\n",
       "   'median': 0.32982783568465845}},\n",
       " 'speechiness-duration_ms': {'summary': {'best': 0.15116841287404378,\n",
       "   'worst': 0.8117533387927945,\n",
       "   'median': 0.43240328040824283},\n",
       "  'tracks': {'best': 0.12909576047546742,\n",
       "   'worst': 0.7983628542962058,\n",
       "   'median': 0.3951351596883544}},\n",
       " 'speechiness-loudness': {'summary': {'best': 0.149615039310416,\n",
       "   'worst': 0.7936094385455958,\n",
       "   'median': 0.3899235152287563},\n",
       "  'tracks': {'best': 0.11179360594010397,\n",
       "   'worst': 0.7582370982997018,\n",
       "   'median': 0.30424867197056116}},\n",
       " 'speechiness-time_signature': {'summary': {'best': 0.14802898590041486,\n",
       "   'worst': 0.771081163583478,\n",
       "   'median': 0.4131404214777411},\n",
       "  'tracks': {'best': 0.1162118313443597,\n",
       "   'worst': 0.7570074296559863,\n",
       "   'median': 0.3552565351495514}},\n",
       " 'speechiness-tempo': {'summary': {'best': 0.14671554858855557,\n",
       "   'worst': 0.86654976338549,\n",
       "   'median': 0.48645419508597393},\n",
       "  'tracks': {'best': 0.10081284584007845,\n",
       "   'worst': 0.7812501426306451,\n",
       "   'median': 0.3588148820466785}},\n",
       " 'speechiness-danceability': {'summary': {'best': 0.19850921404259306,\n",
       "   'worst': 0.8335565751348798,\n",
       "   'median': 0.5189027277430056},\n",
       "  'tracks': {'best': 0.12152158556109226,\n",
       "   'worst': 0.772751794287014,\n",
       "   'median': 0.37737384126282253}},\n",
       " 'speechiness-energy': {'summary': {'best': 0.15452055965429515,\n",
       "   'worst': 0.7765561405016309,\n",
       "   'median': 0.4324009383091467},\n",
       "  'tracks': {'best': 0.11800040345604257,\n",
       "   'worst': 0.7507451886189012,\n",
       "   'median': 0.3390158671055832}},\n",
       " 'speechiness-mode': {'summary': {'best': 0.17238574356272818,\n",
       "   'worst': 0.7912527502306703,\n",
       "   'median': 0.44626446166363387},\n",
       "  'tracks': {'best': 0.16588799109422772,\n",
       "   'worst': 0.7739663476428692,\n",
       "   'median': 0.41494592530337193}},\n",
       " 'time_signature-duration_ms': {'summary': {'best': 0.127431883994057,\n",
       "   'worst': 0.6967929779528206,\n",
       "   'median': 0.35391794096988904},\n",
       "  'tracks': {'best': 0.13668618158036527,\n",
       "   'worst': 0.7420559255287746,\n",
       "   'median': 0.34692197049362933}},\n",
       " 'time_signature-loudness': {'summary': {'best': 0.15217483849491606,\n",
       "   'worst': 0.721172765567814,\n",
       "   'median': 0.39706976645902503},\n",
       "  'tracks': {'best': 0.13167292193362076,\n",
       "   'worst': 0.704151799166687,\n",
       "   'median': 0.31463685781742773}},\n",
       " 'time_signature-speechiness': {'summary': {'best': 0.2102756623411064,\n",
       "   'worst': 0.7809799589190866,\n",
       "   'median': 0.4495749104791878},\n",
       "  'tracks': {'best': 0.1613054308159664,\n",
       "   'worst': 0.7377602289083616,\n",
       "   'median': 0.36797191908223836}},\n",
       " 'time_signature-tempo': {'summary': {'best': 0.15752577284460215,\n",
       "   'worst': 0.83877700784715,\n",
       "   'median': 0.47112928714191304},\n",
       "  'tracks': {'best': 0.1057848932323952,\n",
       "   'worst': 0.8007888314006246,\n",
       "   'median': 0.35706443567810164}},\n",
       " 'time_signature-danceability': {'summary': {'best': 0.20759741187726863,\n",
       "   'worst': 0.8233200864516196,\n",
       "   'median': 0.5232539390604078},\n",
       "  'tracks': {'best': 0.10915285526339956,\n",
       "   'worst': 0.7701578217937737,\n",
       "   'median': 0.3394309271839305}},\n",
       " 'time_signature-energy': {'summary': {'best': 0.20802127568014303,\n",
       "   'worst': 0.8106067242530266,\n",
       "   'median': 0.48586782462180367},\n",
       "  'tracks': {'best': 0.12187910454509158,\n",
       "   'worst': 0.7339399319001573,\n",
       "   'median': 0.313135694490432}},\n",
       " 'time_signature-mode': {'summary': {'best': 0.08853397704015388,\n",
       "   'worst': 0.810435950257845,\n",
       "   'median': 0.41296068712172107},\n",
       "  'tracks': {'best': 0.05843446558883935,\n",
       "   'worst': 0.7791402580995889,\n",
       "   'median': 0.34996135403112477}},\n",
       " 'tempo-duration_ms': {'summary': {'best': 0.17660829580797163,\n",
       "   'worst': 0.8456997525072426,\n",
       "   'median': 0.48020865298095483},\n",
       "  'tracks': {'best': 0.11500555963676791,\n",
       "   'worst': 0.7704589926687277,\n",
       "   'median': 0.36585261886133424}},\n",
       " 'tempo-loudness': {'summary': {'best': 0.1613419853227051,\n",
       "   'worst': 0.8445744477338623,\n",
       "   'median': 0.4350262380688511},\n",
       "  'tracks': {'best': 0.1056471427029021,\n",
       "   'worst': 0.7691754460063374,\n",
       "   'median': 0.3154582089291811}},\n",
       " 'tempo-speechiness': {'summary': {'best': 0.14912803331463756,\n",
       "   'worst': 0.8258133863355251,\n",
       "   'median': 0.44830428036292624},\n",
       "  'tracks': {'best': 0.1370580117698594,\n",
       "   'worst': 0.7852714300684692,\n",
       "   'median': 0.38635306326671887}},\n",
       " 'tempo-time_signature': {'summary': {'best': 0.19454957400942796,\n",
       "   'worst': 0.7830786707503796,\n",
       "   'median': 0.4320610159165334},\n",
       "  'tracks': {'best': 0.1441893707416486,\n",
       "   'worst': 0.7371858604250727,\n",
       "   'median': 0.34371981095828325}},\n",
       " 'tempo-danceability': {'summary': {'best': 0.19112279769947893,\n",
       "   'worst': 0.8124731773943199,\n",
       "   'median': 0.49534762090739454},\n",
       "  'tracks': {'best': 0.1356166467191375,\n",
       "   'worst': 0.7823092314674112,\n",
       "   'median': 0.3614609842835369}},\n",
       " 'tempo-energy': {'summary': {'best': 0.22577096819237957,\n",
       "   'worst': 0.8110997803940884,\n",
       "   'median': 0.49493011795394587},\n",
       "  'tracks': {'best': 0.13986510157248255,\n",
       "   'worst': 0.7542952035764003,\n",
       "   'median': 0.3439032321529263}},\n",
       " 'tempo-mode': {'summary': {'best': 0.17390562105995908,\n",
       "   'worst': 0.8139528946543525,\n",
       "   'median': 0.4435275431673811},\n",
       "  'tracks': {'best': 0.15367271711630515,\n",
       "   'worst': 0.771036306881922,\n",
       "   'median': 0.3802701945662983}},\n",
       " 'danceability-duration_ms': {'summary': {'best': 0.20743900474641092,\n",
       "   'worst': 0.8766332264009506,\n",
       "   'median': 0.5524183426209053},\n",
       "  'tracks': {'best': 0.13438629030702207,\n",
       "   'worst': 0.7936160910334858,\n",
       "   'median': 0.3656030007650003}},\n",
       " 'danceability-loudness': {'summary': {'best': 0.21389709263497295,\n",
       "   'worst': 0.8382385369397549,\n",
       "   'median': 0.5131320630353652},\n",
       "  'tracks': {'best': 0.14225733389776607,\n",
       "   'worst': 0.7119900245661774,\n",
       "   'median': 0.33382418236233496}},\n",
       " 'danceability-speechiness': {'summary': {'best': 0.20010106884245596,\n",
       "   'worst': 0.8127544091204496,\n",
       "   'median': 0.4949865627020653},\n",
       "  'tracks': {'best': 0.11806008072843265,\n",
       "   'worst': 0.7401941985682224,\n",
       "   'median': 0.3185517992877783}},\n",
       " 'danceability-time_signature': {'summary': {'best': 0.2699858419827624,\n",
       "   'worst': 0.8591163094981096,\n",
       "   'median': 0.5819214816684594},\n",
       "  'tracks': {'best': 0.14255371694613989,\n",
       "   'worst': 0.7362605066505077,\n",
       "   'median': 0.3385201016226188}},\n",
       " 'danceability-tempo': {'summary': {'best': 0.2173885621275999,\n",
       "   'worst': 0.8336633292380644,\n",
       "   'median': 0.5470651312190634},\n",
       "  'tracks': {'best': 0.14399036235184987,\n",
       "   'worst': 0.7389785084242529,\n",
       "   'median': 0.3548916285072261}},\n",
       " 'danceability-energy': {'summary': {'best': 0.2714003970979074,\n",
       "   'worst': 0.8132824893524244,\n",
       "   'median': 0.5252100383494076},\n",
       "  'tracks': {'best': 0.15337471878392744,\n",
       "   'worst': 0.7070968212069763,\n",
       "   'median': 0.32199714872256324}},\n",
       " 'danceability-mode': {'summary': {'best': 0.270602956035919,\n",
       "   'worst': 0.8500846144853003,\n",
       "   'median': 0.5604125287320496},\n",
       "  'tracks': {'best': 0.16158467663585463,\n",
       "   'worst': 0.7253831963154251,\n",
       "   'median': 0.36650704364907943}},\n",
       " 'energy-duration_ms': {'summary': {'best': 0.24061471479007307,\n",
       "   'worst': 0.7768613967806095,\n",
       "   'median': 0.4743893000995073},\n",
       "  'tracks': {'best': 0.1210735654384791,\n",
       "   'worst': 0.6574917658034464,\n",
       "   'median': 0.3285653908573452}},\n",
       " 'energy-loudness': {'summary': {'best': 0.20938159564019346,\n",
       "   'worst': 0.8118667257383938,\n",
       "   'median': 0.4583537568505869},\n",
       "  'tracks': {'best': 0.1160383637255903,\n",
       "   'worst': 0.7296185898382104,\n",
       "   'median': 0.3150758792646564}},\n",
       " 'energy-speechiness': {'summary': {'best': 0.16898556030007522,\n",
       "   'worst': 0.7791954618926406,\n",
       "   'median': 0.4201871514455716},\n",
       "  'tracks': {'best': 0.11201193948934621,\n",
       "   'worst': 0.7282779424992806,\n",
       "   'median': 0.33789012706484456}},\n",
       " 'energy-time_signature': {'summary': {'best': 0.21928715921649272,\n",
       "   'worst': 0.7899803414267055,\n",
       "   'median': 0.48874556273257386},\n",
       "  'tracks': {'best': 0.13107895446223264,\n",
       "   'worst': 0.7342900309418456,\n",
       "   'median': 0.36009728492555126}},\n",
       " 'energy-tempo': {'summary': {'best': 0.16778609689625149,\n",
       "   'worst': 0.8256495599238409,\n",
       "   'median': 0.4871078159603448},\n",
       "  'tracks': {'best': 0.11328529687334221,\n",
       "   'worst': 0.7751528044777882,\n",
       "   'median': 0.3671143385664222}},\n",
       " 'energy-danceability': {'summary': {'best': 0.2146715171358405,\n",
       "   'worst': 0.8403818859102526,\n",
       "   'median': 0.5205505428011804},\n",
       "  'tracks': {'best': 0.08752845595681927,\n",
       "   'worst': 0.7056748015941248,\n",
       "   'median': 0.3012068511839203}},\n",
       " 'energy-mode': {'summary': {'best': 0.18430585577375214,\n",
       "   'worst': 0.800756724215974,\n",
       "   'median': 0.48275482258309343},\n",
       "  'tracks': {'best': 0.1329235703014519,\n",
       "   'worst': 0.7607255081191177,\n",
       "   'median': 0.341342331240565}},\n",
       " 'mode-duration_ms': {'summary': {'best': 0.1702321142074164,\n",
       "   'worst': 0.751860811784677,\n",
       "   'median': 0.416528673019248},\n",
       "  'tracks': {'best': 0.16396124313863183,\n",
       "   'worst': 0.7368834464975159,\n",
       "   'median': 0.34065956846264644}},\n",
       " 'mode-loudness': {'summary': {'best': 0.1440337039703864,\n",
       "   'worst': 0.782971636959914,\n",
       "   'median': 0.41727539581165946},\n",
       "  'tracks': {'best': 0.10574216337523756,\n",
       "   'worst': 0.7309145953913744,\n",
       "   'median': 0.30390802625923075}},\n",
       " 'mode-speechiness': {'summary': {'best': 0.1613117861042556,\n",
       "   'worst': 0.8327150229916204,\n",
       "   'median': 0.4666385219005371},\n",
       "  'tracks': {'best': 0.11071857774272618,\n",
       "   'worst': 0.8077121193227582,\n",
       "   'median': 0.3765756931130812}},\n",
       " 'mode-time_signature': {'summary': {'best': 0.13899542968428452,\n",
       "   'worst': 0.812666403527103,\n",
       "   'median': 0.412823709975985},\n",
       "  'tracks': {'best': 0.11228179286404527,\n",
       "   'worst': 0.7862532708197542,\n",
       "   'median': 0.3729506870736064}},\n",
       " 'mode-tempo': {'summary': {'best': 0.15960448229982813,\n",
       "   'worst': 0.8459336327564054,\n",
       "   'median': 0.48561220761413887},\n",
       "  'tracks': {'best': 0.14954334889661677,\n",
       "   'worst': 0.8390804353173051,\n",
       "   'median': 0.38553514256350924}},\n",
       " 'mode-danceability': {'summary': {'best': 0.20417426347765533,\n",
       "   'worst': 0.8734777022707646,\n",
       "   'median': 0.5259797085895572},\n",
       "  'tracks': {'best': 0.1487338204581441,\n",
       "   'worst': 0.8150104265195733,\n",
       "   'median': 0.3896936458655042}},\n",
       " 'mode-energy': {'summary': {'best': 0.22060160807108553,\n",
       "   'worst': 0.8015994373669697,\n",
       "   'median': 0.4734978486507834},\n",
       "  'tracks': {'best': 0.13296288637307713,\n",
       "   'worst': 0.7147325094223779,\n",
       "   'median': 0.3348221930104014}}}"
      ]
     },
     "execution_count": 19,
     "metadata": {},
     "output_type": "execute_result"
    }
   ],
   "source": [
    "agg_perfs"
   ]
  },
  {
   "cell_type": "code",
   "execution_count": 29,
   "metadata": {},
   "outputs": [],
   "source": [
    "import pandas as pd\n",
    "import matplotlib.pyplot as plt\n",
    "import seaborn as sns"
   ]
  },
  {
   "cell_type": "code",
   "execution_count": 30,
   "metadata": {},
   "outputs": [],
   "source": [
    "# Convert the aggregated performance data into multiple dictionaries.\n",
    "summary_best = {}\n",
    "summary_worst = {}\n",
    "summary_median = {}\n",
    "tracks_best = {}\n",
    "tracks_median = {}\n",
    "tracks_worst = {}\n",
    "features = agg_perfs.keys()\n",
    "\n",
    "for i in features:\n",
    "    summary_best[i] = agg_perfs[i][\"summary\"][\"best\"]\n",
    "    summary_worst[i] = agg_perfs[i][\"summary\"][\"worst\"]\n",
    "    summary_median[i] = agg_perfs[i][\"summary\"][\"median\"]\n",
    "    tracks_best[i] = agg_perfs[i][\"tracks\"][\"best\"]\n",
    "    tracks_worst[i] = agg_perfs[i][\"tracks\"][\"worst\"]\n",
    "    tracks_median[i] = agg_perfs[i][\"tracks\"][\"median\"]\n",
    "\n",
    "summary_best = {k: v for k, v in sorted(summary_best.items(), key=lambda item: item[1], reverse=True)}\n",
    "summary_worst = {k: v for k, v in sorted(summary_worst.items(), key=lambda item: item[1], reverse=True)}\n",
    "summary_median = {k: v for k, v in sorted(summary_median.items(), key=lambda item: item[1], reverse=True)}\n",
    "tracks_best = {k: v for k, v in sorted(tracks_best.items(), key=lambda item: item[1], reverse=True)}\n",
    "tracks_worst = {k: v for k, v in sorted(tracks_worst.items(), key=lambda item: item[1], reverse=True)}\n",
    "tracks_median = {k: v for k, v in sorted(tracks_median.items(), key=lambda item: item[1], reverse=True)}"
   ]
  },
  {
   "cell_type": "code",
   "execution_count": 31,
   "metadata": {},
   "outputs": [
    {
     "data": {
      "text/plain": [
       "[Text(0.5, 1.0, 'median performance by tracks')]"
      ]
     },
     "execution_count": 31,
     "metadata": {},
     "output_type": "execute_result"
    },
    {
     "data": {
      "image/png": "[encoded data removed]",
      "text/plain": [
       "<Figure size 640x480 with 1 Axes>"
      ]
     },
     "metadata": {},
     "output_type": "display_data"
    }
   ],
   "source": [
    "# The top 10 features in terms of their median performance based on tracks.\n",
    "sns.barplot(x=list(tracks_median.values())[0:10], y=list(tracks_median.keys())[0:10]).set(title='median performance by tracks')"
   ]
  },
  {
   "cell_type": "markdown",
   "metadata": {},
   "source": [
    "At a glance, the features danceability, mode, tempo, and speechiness all takes the majority of the occurances. Mode in particular, here"
   ]
  },
  {
   "cell_type": "code",
   "execution_count": 32,
   "metadata": {},
   "outputs": [
    {
     "data": {
      "text/plain": [
       "[Text(0.5, 1.0, 'median performance by summary')]"
      ]
     },
     "execution_count": 32,
     "metadata": {},
     "output_type": "execute_result"
    },
    {
     "data": {
      "image/png": "[encoded data removed]",
      "text/plain": [
       "<Figure size 640x480 with 1 Axes>"
      ]
     },
     "metadata": {},
     "output_type": "display_data"
    }
   ],
   "source": [
    "# The top 10 features in terms of their median performance based on summary.\n",
    "sns.barplot(x=list(summary_median.values())[0:10], y=list(summary_median.keys())[0:10]).set(title='median performance by summary')"
   ]
  },
  {
   "cell_type": "markdown",
   "metadata": {},
   "source": [
    "At a glance, the features, danceability takes the vast majority of occurances amongt the top 10.\n",
    "However, this isn't a strong performance--even the best of medians are occuring >50% out.\n",
    "It's still a reasonable indicator of which features are relatively important--especially\n",
    "as playlists become more arbitrary, or after they have lost information.\n",
    "It does show that danceability takes over for mode. Perhaps it is simple a more stable indicator."
   ]
  },
  {
   "cell_type": "code",
   "execution_count": 48,
   "metadata": {},
   "outputs": [
    {
     "data": {
      "text/plain": [
       "['speechiness-danceability',\n",
       " 'danceability-mode',\n",
       " 'danceability-duration_ms',\n",
       " 'mode-danceability']"
      ]
     },
     "execution_count": 48,
     "metadata": {},
     "output_type": "execute_result"
    }
   ],
   "source": [
    "# Find overlapping features in terms of their median, best, and worst performaces.\n",
    "# The top 20 features in each of the categories were selected.\n",
    "median_overlap = list(set(list(tracks_median.keys())[0:15]) & set(list(summary_median.keys())[0:15]))\n",
    "median_overlap"
   ]
  },
  {
   "cell_type": "code",
   "execution_count": 49,
   "metadata": {},
   "outputs": [
    {
     "data": {
      "text/plain": [
       "['danceability-tempo',\n",
       " 'danceability-loudness',\n",
       " 'danceability-time_signature',\n",
       " 'danceability-energy',\n",
       " 'time_signature-speechiness',\n",
       " 'danceability-mode']"
      ]
     },
     "execution_count": 49,
     "metadata": {},
     "output_type": "execute_result"
    }
   ],
   "source": [
    "best_overlap = list(set(list(tracks_best.keys())[0:15]) & set(list(summary_best.keys())[0:15]))\n",
    "best_overlap"
   ]
  },
  {
   "cell_type": "code",
   "execution_count": 50,
   "metadata": {},
   "outputs": [
    {
     "data": {
      "text/plain": [
       "['speechiness-tempo',\n",
       " 'danceability-duration_ms',\n",
       " 'time_signature-tempo',\n",
       " 'mode-speechiness',\n",
       " 'mode-danceability',\n",
       " 'mode-tempo']"
      ]
     },
     "execution_count": 50,
     "metadata": {},
     "output_type": "execute_result"
    }
   ],
   "source": [
    "worst_overlap = list(set(list(tracks_worst.keys())[0:15]) & set(list(summary_worst.keys())[0:15]))\n",
    "worst_overlap"
   ]
  },
  {
   "cell_type": "code",
   "execution_count": 51,
   "metadata": {},
   "outputs": [
    {
     "data": {
      "text/plain": [
       "['danceability-mode']"
      ]
     },
     "execution_count": 51,
     "metadata": {},
     "output_type": "execute_result"
    }
   ],
   "source": [
    "# We find the features that works well in both best performance and median performance.\n",
    "best_median_overlap = list(set(median_overlap) & set(best_overlap))\n",
    "best_median_overlap"
   ]
  },
  {
   "cell_type": "code",
   "execution_count": 52,
   "metadata": {},
   "outputs": [
    {
     "data": {
      "text/plain": [
       "['danceability-mode']"
      ]
     },
     "execution_count": 52,
     "metadata": {},
     "output_type": "execute_result"
    }
   ],
   "source": [
    "# From the features we found above, eliminate the ones that shows up in overlapped worst performaces.\n",
    "top_features = list(set(best_median_overlap) - set(worst_overlap))\n",
    "top_features"
   ]
  },
  {
   "cell_type": "markdown",
   "metadata": {},
   "source": [
    "Based on the top features we found, danceability and mode have the most occurances, which could imply their importance in the recommendation process."
   ]
  },
  {
   "cell_type": "code",
   "execution_count": 38,
   "metadata": {},
   "outputs": [],
   "source": [
    "# Get those feature's performance data.\n",
    "top_features_dict = {'name':[], 'summary_median':[], 'summary_worst':[], \n",
    "                     'summary_best':[], 'tracks_median':[], 'tracks_worst':[], 'tracks_best':[]}\n",
    "\n",
    "for i in top_features:\n",
    "    top_features_dict['name'].append(i)\n",
    "    top_features_dict['summary_median'].append(summary_median[i])\n",
    "    top_features_dict['summary_worst'].append(summary_worst[i])\n",
    "    top_features_dict['summary_best'].append(summary_best[i])\n",
    "    top_features_dict['tracks_median'].append(tracks_median[i])\n",
    "    top_features_dict['tracks_worst'].append(tracks_worst[i])\n",
    "    top_features_dict['tracks_best'].append(tracks_best[i])"
   ]
  },
  {
   "cell_type": "code",
   "execution_count": 39,
   "metadata": {},
   "outputs": [],
   "source": [
    "top_features_df = pd.DataFrame(top_features_dict)"
   ]
  },
  {
   "cell_type": "code",
   "execution_count": 40,
   "metadata": {},
   "outputs": [
    {
     "data": {
      "text/plain": [
       "<AxesSubplot: xlabel='name'>"
      ]
     },
     "execution_count": 40,
     "metadata": {},
     "output_type": "execute_result"
    },
    {
     "data": {
      "image/png": "[encoded data removed]",
      "text/plain": [
       "<Figure size 1500x1000 with 1 Axes>"
      ]
     },
     "metadata": {},
     "output_type": "display_data"
    }
   ],
   "source": [
    "# Plot a side by side bar plot for the top features.\n",
    "top_features_df.set_index('name').plot.bar(figsize=(15, 10), rot=0)"
   ]
  },
  {
   "cell_type": "markdown",
   "metadata": {},
   "source": [
    "Next, we examine the performance scores based on the methods used to calculate them."
   ]
  },
  {
   "cell_type": "code",
   "execution_count": 53,
   "metadata": {},
   "outputs": [
    {
     "data": {
      "text/plain": [
       "['danceability-tempo',\n",
       " 'danceability-loudness',\n",
       " 'danceability-time_signature',\n",
       " 'danceability-energy',\n",
       " 'energy-danceability',\n",
       " 'loudness-danceability',\n",
       " 'duration_ms-danceability',\n",
       " 'tempo-energy',\n",
       " 'danceability-mode']"
      ]
     },
     "execution_count": 53,
     "metadata": {},
     "output_type": "execute_result"
    }
   ],
   "source": [
    "# We will start with summary first.\n",
    "# First, we find the features that are the top 20 in terms of their median and best performances.\n",
    "summary_median_best = list(set(list(summary_median.keys())[0:15]) & set(list(summary_best.keys())[0:15]))\n",
    "summary_median_best"
   ]
  },
  {
   "cell_type": "code",
   "execution_count": 54,
   "metadata": {},
   "outputs": [
    {
     "data": {
      "text/plain": [
       "['tempo-energy', 'duration_ms-danceability', 'danceability-energy']"
      ]
     },
     "execution_count": 54,
     "metadata": {},
     "output_type": "execute_result"
    }
   ],
   "source": [
    "# Next, we eliminate the features that also appears in the top 20 worst performances.\n",
    "top_features_summary = list(set(summary_median_best) - set(list(summary_worst.keys())[0:15]))\n",
    "top_features_summary"
   ]
  },
  {
   "cell_type": "markdown",
   "metadata": {},
   "source": [
    "Among the top features in the summary approach, danceability and energy have the most occurances, which could infer their importance."
   ]
  },
  {
   "cell_type": "code",
   "execution_count": 55,
   "metadata": {},
   "outputs": [
    {
     "name": "stdout",
     "output_type": "stream",
     "text": [
      "['mode-danceability', 'time_signature-speechiness', 'danceability-mode', 'duration_ms-tempo', 'mode-tempo', 'speechiness-mode', 'tempo-mode']\n",
      "['danceability-mode', 'time_signature-speechiness', 'tempo-mode']\n"
     ]
    }
   ],
   "source": [
    "# Next, we do the same for tracks approach.\n",
    "tracks_median_best = list(set(list(tracks_median.keys())[0:15]) & set(list(tracks_best.keys())[0:15]))\n",
    "top_features_tracks = list(set(tracks_median_best) - set(list(tracks_worst.keys())[0:15]))\n",
    "print(tracks_median_best)\n",
    "print(top_features_tracks)"
   ]
  },
  {
   "cell_type": "markdown",
   "metadata": {},
   "source": [
    "Among the top features in the tracks approach, danceability and time_signature have the most occurances, which could infer their importance."
   ]
  },
  {
   "cell_type": "code",
   "execution_count": 56,
   "metadata": {},
   "outputs": [],
   "source": [
    "# Get top summary features' performance data.\n",
    "top_features_summary_dict = {'name':[], 'summary_median':[], 'summary_worst':[], \n",
    "                     'summary_best':[], 'tracks_median':[], 'tracks_worst':[], 'tracks_best':[]}\n",
    "top_features_tracks_dict = {'name':[], 'summary_median':[], 'summary_worst':[], \n",
    "                     'summary_best':[], 'tracks_median':[], 'tracks_worst':[], 'tracks_best':[]}\n",
    "\n",
    "for i in top_features_summary:\n",
    "    top_features_summary_dict['name'].append(i)\n",
    "    top_features_summary_dict['summary_median'].append(summary_median[i])\n",
    "    top_features_summary_dict['summary_worst'].append(summary_worst[i])\n",
    "    top_features_summary_dict['summary_best'].append(summary_best[i])\n",
    "    top_features_summary_dict['tracks_median'].append(tracks_median[i])\n",
    "    top_features_summary_dict['tracks_worst'].append(tracks_worst[i])\n",
    "    top_features_summary_dict['tracks_best'].append(tracks_best[i])\n",
    "    \n",
    "for i in top_features_tracks:\n",
    "    top_features_tracks_dict['name'].append(i)\n",
    "    top_features_tracks_dict['summary_median'].append(summary_median[i])\n",
    "    top_features_tracks_dict['summary_worst'].append(summary_worst[i])\n",
    "    top_features_tracks_dict['summary_best'].append(summary_best[i])\n",
    "    top_features_tracks_dict['tracks_median'].append(tracks_median[i])\n",
    "    top_features_tracks_dict['tracks_worst'].append(tracks_worst[i])\n",
    "    top_features_tracks_dict['tracks_best'].append(tracks_best[i])\n",
    "    \n",
    "    \n",
    "# Convert the dictionaries into dataframes.\n",
    "top_features_summary_df = pd.DataFrame(top_features_summary_dict)\n",
    "top_features_tracks_df = pd.DataFrame(top_features_tracks_dict)"
   ]
  },
  {
   "cell_type": "code",
   "execution_count": 57,
   "metadata": {},
   "outputs": [
    {
     "data": {
      "text/plain": [
       "<AxesSubplot: xlabel='name'>"
      ]
     },
     "execution_count": 57,
     "metadata": {},
     "output_type": "execute_result"
    },
    {
     "data": {
      "image/png": "[encoded data removed]",
      "text/plain": [
       "<Figure size 1500x1000 with 1 Axes>"
      ]
     },
     "metadata": {},
     "output_type": "display_data"
    }
   ],
   "source": [
    "top_features_summary_df[['name', 'summary_median', \n",
    "                         'summary_worst', 'summary_best']].set_index('name').plot.bar(figsize=(15, 10), rot=0)"
   ]
  },
  {
   "cell_type": "code",
   "execution_count": 58,
   "metadata": {},
   "outputs": [
    {
     "data": {
      "text/plain": [
       "<AxesSubplot: xlabel='name'>"
      ]
     },
     "execution_count": 58,
     "metadata": {},
     "output_type": "execute_result"
    },
    {
     "data": {
      "image/png": "[encoded data removed]",
      "text/plain": [
       "<Figure size 1500x1000 with 1 Axes>"
      ]
     },
     "metadata": {},
     "output_type": "display_data"
    }
   ],
   "source": [
    "top_features_tracks_df[['name', 'tracks_median', \n",
    "                        'tracks_worst', 'tracks_best']].set_index('name').plot.bar(figsize=(15, 10), rot=0)"
   ]
  },
  {
   "cell_type": "markdown",
   "metadata": {},
   "source": [
    "Based on our findings, the feature \"danceability\" plays quite an important role in giving out recommendations, as this feature appears not only in the cross analysis of the two performance calculation approaches but also the analysis of the approaches individually. Other features such as time_signature, energy, tempo, and mode also play a significant role in the recommendation process."
   ]
  }
 ],
 "metadata": {
  "kernelspec": {
   "display_name": "Python 3 (ipykernel)",
   "language": "python",
   "name": "python3"
  },
  "language_info": {
   "codemirror_mode": {
    "name": "ipython",
    "version": 3
   },
   "file_extension": ".py",
   "mimetype": "text/x-python",
   "name": "python",
   "nbconvert_exporter": "python",
   "pygments_lexer": "ipython3",
   "version": "3.9.13"
  },
  "vscode": {
   "interpreter": {
    "hash": "aee8b7b246df8f9039afb4144a1f6fd8d2ca17a180786b69acc140d282b71a49"
   }
  }
 },
 "nbformat": 4,
 "nbformat_minor": 2
}
