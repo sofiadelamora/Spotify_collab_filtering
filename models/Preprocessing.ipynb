{
 "cells": [
  {
   "cell_type": "markdown",
   "id": "b8ed0e96",
   "metadata": {},
   "source": [
    "Preprocessing of data and sentiment analysis"
   ]
  },
  {
   "cell_type": "code",
   "execution_count": 2,
   "id": "1bc37b63",
   "metadata": {},
   "outputs": [],
   "source": [
    "#LIBRARIES\n",
    "import json\n",
    "import pandas as pd\n",
    "import seaborn as sns\n",
    "import matplotlib.pyplot as plt\n",
    "from sklearn.preprocessing import OneHotEncoder, OrdinalEncoder"
   ]
  },
  {
   "cell_type": "code",
   "execution_count": 3,
   "id": "ba156aab",
   "metadata": {},
   "outputs": [],
   "source": [
    "#LOAD JSON FILES\n",
    "path1 = 'playlist_data.json'\n",
    "path2 = 'track_data.json'\n",
    "path3 = 'track_map.json'\n",
    "path4 = 'playlist_summaries.json'\n",
    "path5 = 'track_audio_data.json'\n",
    "\n",
    "playlist_json = json.load(open(path1, 'r'))\n",
    "track_data_json = json.load(open(path2, 'r'))\n",
    "meta_json = json.load(open(path5, 'r'))"
   ]
  },
  {
   "cell_type": "code",
   "execution_count": 4,
   "id": "94a8c2d8",
   "metadata": {},
   "outputs": [],
   "source": [
    "#DELETE JSON OBJECTS WITH ALL \"NONE ENTRIES\" IN THE METADATA\n",
    "filtered = {k: v for k, v in meta_json.items() if v is not None}\n",
    "meta_json.clear()\n",
    "meta_json.update(filtered)"
   ]
  },
  {
   "cell_type": "code",
   "execution_count": 5,
   "id": "61094da9",
   "metadata": {},
   "outputs": [],
   "source": [
    "def merge(dict1, dict2):\n",
    "    #MERGE TWO DICTIONARIES\n",
    "    res = {**dict1, **dict2}\n",
    "    return res"
   ]
  },
  {
   "cell_type": "code",
   "execution_count": 6,
   "id": "a1eb1ba1",
   "metadata": {},
   "outputs": [],
   "source": [
    "\n",
    "#MERGE TWO DICTIONARIES AND ADD EMPTY LIST AS ENTRY OF PLAYLIST TO EACH OBJECT\n",
    "final = {}\n",
    "for i in range(len(track_data_json)):\n",
    "    try:\n",
    "        dict = merge(track_data_json[str(i)], meta_json[str(i)])\n",
    "        name = {'Playlists': []}\n",
    "        dict_2 = merge(dict, name)\n",
    "        final[i] = dict_2\n",
    "    except:\n",
    "        pass"
   ]
  },
  {
   "cell_type": "code",
   "execution_count": 7,
   "id": "24fea25b",
   "metadata": {},
   "outputs": [],
   "source": [
    "#ADD PLAYLIST TO EACH TRACK\n",
    "for k in range(len(playlist_json)):\n",
    "    name = playlist_json[k]['name']\n",
    "    list_tracks = playlist_json[k]['tracks']\n",
    "    for k in list_tracks:\n",
    "        try: \n",
    "            final[k]['Playlists'].append(name)\n",
    "        except:\n",
    "            pass"
   ]
  },
  {
   "cell_type": "code",
   "execution_count": 8,
   "id": "89495a0d",
   "metadata": {},
   "outputs": [],
   "source": [
    "#CONVERT MERGED DICTONARY TO DATAFRAME\n",
    "tracks_df = pd.DataFrame.from_dict(final, orient='index')"
   ]
  },
  {
   "cell_type": "code",
   "execution_count": 9,
   "id": "db0ae030",
   "metadata": {},
   "outputs": [],
   "source": [
    "def read_pickle(path_o, name_in):\n",
    "    import pickle\n",
    "    tmp_data = pickle.load(open(path_o + name_in + \".pk\", \"rb\"))\n",
    "    return tmp_data\n",
    "\n",
    "def write_pickle(obj_in, path_o, name_in):\n",
    "    import pickle\n",
    "    pickle.dump(obj_in, open(path_o + name_in + \".pk\", \"wb\"))\n",
    "    return 0"
   ]
  },
  {
   "cell_type": "code",
   "execution_count": 14,
   "id": "6f224cab",
   "metadata": {},
   "outputs": [
    {
     "data": {
      "text/plain": [
       "0"
      ]
     },
     "execution_count": 14,
     "metadata": {},
     "output_type": "execute_result"
    }
   ],
   "source": [
    "write_pickle(tracks_df, 'pickle/', 'tracks_df')"
   ]
  },
  {
   "cell_type": "code",
   "execution_count": 11,
   "id": "c0c194c8",
   "metadata": {},
   "outputs": [],
   "source": [
    "tracks_df = read_pickle('pickle/', 'tracks_df')"
   ]
  },
  {
   "cell_type": "code",
   "execution_count": 12,
   "id": "c43f4e07",
   "metadata": {},
   "outputs": [],
   "source": [
    "def sent_fun(str_in):\n",
    "    #COMPUTES COMPOUND POLARITY SCORE OF VADER SENTIMENT OF A STRING\n",
    "    from vaderSentiment.vaderSentiment import SentimentIntensityAnalyzer\n",
    "    senti = SentimentIntensityAnalyzer()\n",
    "    ex = senti.polarity_scores(str_in)[\"compound\"]\n",
    "    return ex"
   ]
  },
  {
   "cell_type": "code",
   "execution_count": 13,
   "id": "f13f6d1c",
   "metadata": {},
   "outputs": [],
   "source": [
    "tracks_df[\"Vader_compound\"] = tracks_df.track_name.apply(sent_fun)"
   ]
  }
 ],
 "metadata": {
  "kernelspec": {
   "display_name": "Python 3.8.10 64-bit (microsoft store)",
   "language": "python",
   "name": "python3"
  },
  "language_info": {
   "codemirror_mode": {
    "name": "ipython",
    "version": 3
   },
   "file_extension": ".py",
   "mimetype": "text/x-python",
   "name": "python",
   "nbconvert_exporter": "python",
   "pygments_lexer": "ipython3",
   "version": "3.8.10"
  },
  "vscode": {
   "interpreter": {
    "hash": "ba4e8d177d81c0fe6cb79f0e3c305f3b4aa9ecdb87b91de541b76515acc8b6fa"
   }
  }
 },
 "nbformat": 4,
 "nbformat_minor": 5
}
